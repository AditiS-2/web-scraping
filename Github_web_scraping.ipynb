{
  "nbformat": 4,
  "nbformat_minor": 0,
  "metadata": {
    "colab": {
      "provenance": []
    },
    "kernelspec": {
      "name": "python3",
      "display_name": "Python 3"
    },
    "language_info": {
      "name": "python"
    }
  },
  "cells": [
    {
      "cell_type": "markdown",
      "source": [
        "***PROJECT OUTLINE***\n",
        "\n",
        "We're going to scrape https://github.com/topics\n",
        "\n",
        "We'll get list of topics. For each topic we'll get topic title, topic page URL and topic description.\n",
        "\n",
        "For each topic, We'll get the top 25 repositories in the topic from the topic page.\n",
        "\n",
        "For each repository, we'll grap the repo name , username , and repo URL.\n",
        "\n",
        "For each topic we'll create CSV File"
      ],
      "metadata": {
        "id": "SzjdhhqBCkJa"
      }
    },
    {
      "cell_type": "code",
      "execution_count": null,
      "metadata": {
        "id": "9KsbuLfLCeJM"
      },
      "outputs": [],
      "source": [
        "!pip install requests --upgrade --quiet"
      ]
    },
    {
      "cell_type": "code",
      "source": [
        "import requests"
      ],
      "metadata": {
        "id": "6RkuCTRXSWMp"
      },
      "execution_count": null,
      "outputs": []
    },
    {
      "cell_type": "code",
      "source": [
        "topics_URL = 'https://github.com/topics'\n",
        "r = requests.get(topics_URL)"
      ],
      "metadata": {
        "id": "rTOcHyPZSZRs"
      },
      "execution_count": null,
      "outputs": []
    },
    {
      "cell_type": "code",
      "source": [
        "r.status_code"
      ],
      "metadata": {
        "colab": {
          "base_uri": "https://localhost:8080/"
        },
        "id": "A9hUgoLiSszN",
        "outputId": "e4bc6a71-81ed-4073-fc3b-8ee764a923dd"
      },
      "execution_count": null,
      "outputs": [
        {
          "output_type": "execute_result",
          "data": {
            "text/plain": [
              "200"
            ]
          },
          "metadata": {},
          "execution_count": 4
        }
      ]
    },
    {
      "cell_type": "code",
      "source": [
        "len(r.text)"
      ],
      "metadata": {
        "colab": {
          "base_uri": "https://localhost:8080/"
        },
        "id": "6NFxIugFTJcG",
        "outputId": "61065863-21fd-4ffc-bdd5-b7197d73f7b8"
      },
      "execution_count": null,
      "outputs": [
        {
          "output_type": "execute_result",
          "data": {
            "text/plain": [
              "205414"
            ]
          },
          "metadata": {},
          "execution_count": 5
        }
      ]
    },
    {
      "cell_type": "code",
      "source": [
        "page_contents = r.text"
      ],
      "metadata": {
        "id": "TcJm4SytTRcg"
      },
      "execution_count": null,
      "outputs": []
    },
    {
      "cell_type": "code",
      "source": [
        "page_contents[:1000]"
      ],
      "metadata": {
        "colab": {
          "base_uri": "https://localhost:8080/",
          "height": 157
        },
        "id": "ghYATJXSS2TV",
        "outputId": "99920b3b-f022-41a5-ac3b-c84496399079"
      },
      "execution_count": null,
      "outputs": [
        {
          "output_type": "execute_result",
          "data": {
            "text/plain": [
              "'\\n\\n<!DOCTYPE html>\\n<html\\n  lang=\"en\"\\n  \\n  data-color-mode=\"auto\" data-light-theme=\"light\" data-dark-theme=\"dark\"\\n  data-a11y-animated-images=\"system\" data-a11y-link-underlines=\"true\"\\n  \\n  >\\n\\n\\n\\n  <head>\\n    <meta charset=\"utf-8\">\\n  <link rel=\"dns-prefetch\" href=\"https://github.githubassets.com\">\\n  <link rel=\"dns-prefetch\" href=\"https://avatars.githubusercontent.com\">\\n  <link rel=\"dns-prefetch\" href=\"https://github-cloud.s3.amazonaws.com\">\\n  <link rel=\"dns-prefetch\" href=\"https://user-images.githubusercontent.com/\">\\n  <link rel=\"preconnect\" href=\"https://github.githubassets.com\" crossorigin>\\n  <link rel=\"preconnect\" href=\"https://avatars.githubusercontent.com\">\\n\\n  \\n\\n  <link crossorigin=\"anonymous\" media=\"all\" rel=\"stylesheet\" href=\"https://github.githubassets.com/assets/light-7aa84bb7e11e.css\" /><link crossorigin=\"anonymous\" media=\"all\" rel=\"stylesheet\" href=\"https://github.githubassets.com/assets/dark-f65db3e8d171.css\" /><link data-color-theme=\"dark_dimmed\" crossorigin=\"anonymous\" media='"
            ],
            "application/vnd.google.colaboratory.intrinsic+json": {
              "type": "string"
            }
          },
          "metadata": {},
          "execution_count": 7
        }
      ]
    },
    {
      "cell_type": "code",
      "source": [
        "with open('webpage.html', 'w') as f:\n",
        "  f.write(page_contents)"
      ],
      "metadata": {
        "id": "7IgpSWVoULEy"
      },
      "execution_count": null,
      "outputs": []
    },
    {
      "cell_type": "markdown",
      "source": [
        "Beautifulsoup to parse and extract information"
      ],
      "metadata": {
        "id": "T2QMGtDuU1R3"
      }
    },
    {
      "cell_type": "code",
      "source": [
        "!pip install beautifulsoup4"
      ],
      "metadata": {
        "colab": {
          "base_uri": "https://localhost:8080/"
        },
        "id": "wtDobivDUzZN",
        "outputId": "d38b9495-f9df-43f3-d18c-3e98f75ea46f"
      },
      "execution_count": null,
      "outputs": [
        {
          "output_type": "stream",
          "name": "stdout",
          "text": [
            "Requirement already satisfied: beautifulsoup4 in /usr/local/lib/python3.11/dist-packages (4.12.3)\n",
            "Requirement already satisfied: soupsieve>1.2 in /usr/local/lib/python3.11/dist-packages (from beautifulsoup4) (2.6)\n"
          ]
        }
      ]
    },
    {
      "cell_type": "code",
      "source": [
        "from bs4 import BeautifulSoup"
      ],
      "metadata": {
        "id": "Vknkr-5WVGtC"
      },
      "execution_count": null,
      "outputs": []
    },
    {
      "cell_type": "code",
      "source": [
        "doc = BeautifulSoup(page_contents, 'html.parser')"
      ],
      "metadata": {
        "id": "wcXI-AnpVlq-"
      },
      "execution_count": null,
      "outputs": []
    },
    {
      "cell_type": "code",
      "source": [
        "selection_class = 'f3 lh-condensed mb-0 mt-1 Link--primary'"
      ],
      "metadata": {
        "id": "RXAONVjgX0ER"
      },
      "execution_count": null,
      "outputs": []
    },
    {
      "cell_type": "code",
      "source": [
        "topic_title_tags = doc.find_all('p', {'class': selection_class})"
      ],
      "metadata": {
        "id": "QORLdS1sV3PR"
      },
      "execution_count": null,
      "outputs": []
    },
    {
      "cell_type": "code",
      "source": [
        "len(topic_title_tags)"
      ],
      "metadata": {
        "colab": {
          "base_uri": "https://localhost:8080/"
        },
        "id": "_h4uJOPOW52i",
        "outputId": "12944b49-bc08-424b-f49b-f5a9e9c1e2a1"
      },
      "execution_count": null,
      "outputs": [
        {
          "output_type": "execute_result",
          "data": {
            "text/plain": [
              "30"
            ]
          },
          "metadata": {},
          "execution_count": 14
        }
      ]
    },
    {
      "cell_type": "code",
      "source": [
        "topic_title_tags[:5]"
      ],
      "metadata": {
        "colab": {
          "base_uri": "https://localhost:8080/"
        },
        "id": "AEJOIL7HW8pm",
        "outputId": "c4c912d2-dd68-45b2-f588-2e22c039cf3b"
      },
      "execution_count": null,
      "outputs": [
        {
          "output_type": "execute_result",
          "data": {
            "text/plain": [
              "[<p class=\"f3 lh-condensed mb-0 mt-1 Link--primary\">3D</p>,\n",
              " <p class=\"f3 lh-condensed mb-0 mt-1 Link--primary\">Ajax</p>,\n",
              " <p class=\"f3 lh-condensed mb-0 mt-1 Link--primary\">Algorithm</p>,\n",
              " <p class=\"f3 lh-condensed mb-0 mt-1 Link--primary\">Amp</p>,\n",
              " <p class=\"f3 lh-condensed mb-0 mt-1 Link--primary\">Android</p>]"
            ]
          },
          "metadata": {},
          "execution_count": 15
        }
      ]
    },
    {
      "cell_type": "code",
      "source": [
        "desc_selector = 'f5 color-fg-muted mb-0 mt-1'\n",
        "topic_desc_tags = doc.find_all('p', {'class': desc_selector})"
      ],
      "metadata": {
        "id": "GQ47K70v9ftT"
      },
      "execution_count": null,
      "outputs": []
    },
    {
      "cell_type": "code",
      "source": [
        "topic_desc_tags[:5]"
      ],
      "metadata": {
        "colab": {
          "base_uri": "https://localhost:8080/"
        },
        "id": "f1JBODVu-QLN",
        "outputId": "0a9d0466-0c2c-4a83-b5a7-9d7828b2ac74"
      },
      "execution_count": null,
      "outputs": [
        {
          "output_type": "execute_result",
          "data": {
            "text/plain": [
              "[<p class=\"f5 color-fg-muted mb-0 mt-1\">\n",
              "           3D refers to the use of three-dimensional graphics, modeling, and animation in various industries.\n",
              "         </p>,\n",
              " <p class=\"f5 color-fg-muted mb-0 mt-1\">\n",
              "           Ajax is a technique for creating interactive web applications.\n",
              "         </p>,\n",
              " <p class=\"f5 color-fg-muted mb-0 mt-1\">\n",
              "           Algorithms are self-contained sequences that carry out a variety of tasks.\n",
              "         </p>,\n",
              " <p class=\"f5 color-fg-muted mb-0 mt-1\">\n",
              "           Amp is a non-blocking concurrency library for PHP.\n",
              "         </p>,\n",
              " <p class=\"f5 color-fg-muted mb-0 mt-1\">\n",
              "           Android is an operating system built by Google designed for mobile devices.\n",
              "         </p>]"
            ]
          },
          "metadata": {},
          "execution_count": 17
        }
      ]
    },
    {
      "cell_type": "code",
      "source": [
        "topic_link_tags  = doc.find_all('a', {'class': 'no-underline flex-1 d-flex flex-column'})"
      ],
      "metadata": {
        "id": "c17t1rLWGY1t"
      },
      "execution_count": null,
      "outputs": []
    },
    {
      "cell_type": "code",
      "source": [
        "len(topic_link_tags)"
      ],
      "metadata": {
        "colab": {
          "base_uri": "https://localhost:8080/"
        },
        "id": "IWeQJ0UtGxnF",
        "outputId": "da561055-f862-4e82-cac9-f77936f15ffd"
      },
      "execution_count": null,
      "outputs": [
        {
          "output_type": "execute_result",
          "data": {
            "text/plain": [
              "30"
            ]
          },
          "metadata": {},
          "execution_count": 19
        }
      ]
    },
    {
      "cell_type": "code",
      "source": [
        " topic0_URL = \"https://github.com\" + topic_link_tags[0]['href']\n",
        " print(topic0_URL)"
      ],
      "metadata": {
        "colab": {
          "base_uri": "https://localhost:8080/"
        },
        "id": "-vc0LwmgS761",
        "outputId": "efcfc556-06b5-469c-8cd8-5eca1da7a2c5"
      },
      "execution_count": null,
      "outputs": [
        {
          "output_type": "stream",
          "name": "stdout",
          "text": [
            "https://github.com/topics/3d\n"
          ]
        }
      ]
    },
    {
      "cell_type": "code",
      "source": [
        "topic_titles = []\n",
        "for tag in topic_title_tags:\n",
        "  topic_titles.append(tag.text)\n",
        "print(topic_titles)"
      ],
      "metadata": {
        "colab": {
          "base_uri": "https://localhost:8080/"
        },
        "id": "QWC3-Cn2U3oF",
        "outputId": "208f72a4-88cd-464e-cfa9-8bb3cc75b31e"
      },
      "execution_count": null,
      "outputs": [
        {
          "output_type": "stream",
          "name": "stdout",
          "text": [
            "['3D', 'Ajax', 'Algorithm', 'Amp', 'Android', 'Angular', 'Ansible', 'API', 'Arduino', 'ASP.NET', 'Awesome Lists', 'Amazon Web Services', 'Azure', 'Babel', 'Bash', 'Bitcoin', 'Bootstrap', 'Bot', 'C', 'Chrome', 'Chrome extension', 'Command-line interface', 'Clojure', 'Code quality', 'Code review', 'Compiler', 'Continuous integration', 'C++', 'Cryptocurrency', 'Crystal']\n"
          ]
        }
      ]
    },
    {
      "cell_type": "code",
      "source": [
        "topic_descs = []\n",
        "for tag in topic_desc_tags:\n",
        "  topic_descs.append(tag.text.strip())\n",
        "topic_descs[:5]"
      ],
      "metadata": {
        "colab": {
          "base_uri": "https://localhost:8080/"
        },
        "id": "Z4sx8R5cauhe",
        "outputId": "0457e495-afe9-453e-a17b-0302c4abfdaa"
      },
      "execution_count": null,
      "outputs": [
        {
          "output_type": "execute_result",
          "data": {
            "text/plain": [
              "['3D refers to the use of three-dimensional graphics, modeling, and animation in various industries.',\n",
              " 'Ajax is a technique for creating interactive web applications.',\n",
              " 'Algorithms are self-contained sequences that carry out a variety of tasks.',\n",
              " 'Amp is a non-blocking concurrency library for PHP.',\n",
              " 'Android is an operating system built by Google designed for mobile devices.']"
            ]
          },
          "metadata": {},
          "execution_count": 22
        }
      ]
    },
    {
      "cell_type": "code",
      "source": [
        "topic_urls =[]\n",
        "base_url = 'https://github.com'\n",
        "for tag in topic_link_tags:\n",
        "  topic_urls.append(base_url + tag['href'])\n",
        "topic_urls"
      ],
      "metadata": {
        "colab": {
          "base_uri": "https://localhost:8080/"
        },
        "id": "ZLc-JU-YbIbq",
        "outputId": "fbe4685a-96ce-47e7-cc98-a5bcf9cc00a9"
      },
      "execution_count": null,
      "outputs": [
        {
          "output_type": "execute_result",
          "data": {
            "text/plain": [
              "['https://github.com/topics/3d',\n",
              " 'https://github.com/topics/ajax',\n",
              " 'https://github.com/topics/algorithm',\n",
              " 'https://github.com/topics/amphp',\n",
              " 'https://github.com/topics/android',\n",
              " 'https://github.com/topics/angular',\n",
              " 'https://github.com/topics/ansible',\n",
              " 'https://github.com/topics/api',\n",
              " 'https://github.com/topics/arduino',\n",
              " 'https://github.com/topics/aspnet',\n",
              " 'https://github.com/topics/awesome',\n",
              " 'https://github.com/topics/aws',\n",
              " 'https://github.com/topics/azure',\n",
              " 'https://github.com/topics/babel',\n",
              " 'https://github.com/topics/bash',\n",
              " 'https://github.com/topics/bitcoin',\n",
              " 'https://github.com/topics/bootstrap',\n",
              " 'https://github.com/topics/bot',\n",
              " 'https://github.com/topics/c',\n",
              " 'https://github.com/topics/chrome',\n",
              " 'https://github.com/topics/chrome-extension',\n",
              " 'https://github.com/topics/cli',\n",
              " 'https://github.com/topics/clojure',\n",
              " 'https://github.com/topics/code-quality',\n",
              " 'https://github.com/topics/code-review',\n",
              " 'https://github.com/topics/compiler',\n",
              " 'https://github.com/topics/continuous-integration',\n",
              " 'https://github.com/topics/cpp',\n",
              " 'https://github.com/topics/cryptocurrency',\n",
              " 'https://github.com/topics/crystal']"
            ]
          },
          "metadata": {},
          "execution_count": 23
        }
      ]
    },
    {
      "cell_type": "code",
      "source": [
        "!pip install pandas --quiet\n",
        "import pandas as pd"
      ],
      "metadata": {
        "id": "1XydvFQiclTX"
      },
      "execution_count": null,
      "outputs": []
    },
    {
      "cell_type": "code",
      "source": [
        "topic_dict = {'title': topic_titles, 'description': topic_descs, 'url': topic_urls}"
      ],
      "metadata": {
        "id": "gD0PoFH0cxrw"
      },
      "execution_count": null,
      "outputs": []
    },
    {
      "cell_type": "code",
      "source": [
        "topic_df = pd.DataFrame(topic_dict)\n",
        "topic_df"
      ],
      "metadata": {
        "colab": {
          "base_uri": "https://localhost:8080/",
          "height": 990
        },
        "id": "5YOVE8vMeGK9",
        "outputId": "5ab2d06a-34fc-49b3-e0da-a896b53c933f"
      },
      "execution_count": null,
      "outputs": [
        {
          "output_type": "execute_result",
          "data": {
            "text/plain": [
              "                     title                                        description  \\\n",
              "0                       3D  3D refers to the use of three-dimensional grap...   \n",
              "1                     Ajax  Ajax is a technique for creating interactive w...   \n",
              "2                Algorithm  Algorithms are self-contained sequences that c...   \n",
              "3                      Amp  Amp is a non-blocking concurrency library for ...   \n",
              "4                  Android  Android is an operating system built by Google...   \n",
              "5                  Angular  Angular is an open source web application plat...   \n",
              "6                  Ansible  Ansible is a simple and powerful automation en...   \n",
              "7                      API  An API (Application Programming Interface) is ...   \n",
              "8                  Arduino  Arduino is an open source platform for buildin...   \n",
              "9                  ASP.NET  ASP.NET is a web framework for building modern...   \n",
              "10           Awesome Lists  An awesome list is a list of awesome things cu...   \n",
              "11     Amazon Web Services  Amazon Web Services provides on-demand cloud c...   \n",
              "12                   Azure  Azure is a cloud computing service created by ...   \n",
              "13                   Babel  Babel is a compiler for writing next generatio...   \n",
              "14                    Bash  Bash is a shell and command language interpret...   \n",
              "15                 Bitcoin  Bitcoin is a cryptocurrency developed by Satos...   \n",
              "16               Bootstrap  Bootstrap is an HTML, CSS, and JavaScript fram...   \n",
              "17                     Bot  A bot is an application that runs automated ta...   \n",
              "18                       C  C is a general purpose programming language th...   \n",
              "19                  Chrome  Chrome is a web browser from the tech company ...   \n",
              "20        Chrome extension  Chrome extensions enable users to customize th...   \n",
              "21  Command-line interface  A CLI, or command-line interface, is a console...   \n",
              "22                 Clojure  Clojure is a dynamic, general-purpose programm...   \n",
              "23            Code quality  Automate your code review with style, quality,...   \n",
              "24             Code review  Ensure your code meets quality standards and s...   \n",
              "25                Compiler  Compilers are software that translate higher-l...   \n",
              "26  Continuous integration  Automatically build and test your code as you ...   \n",
              "27                     C++  C++ is a general purpose and object-oriented p...   \n",
              "28          Cryptocurrency  A cryptocurrency is a digital currency that us...   \n",
              "29                 Crystal  Crystal is a self-hosted, general purpose prog...   \n",
              "\n",
              "                                                 url  \n",
              "0                       https://github.com/topics/3d  \n",
              "1                     https://github.com/topics/ajax  \n",
              "2                https://github.com/topics/algorithm  \n",
              "3                    https://github.com/topics/amphp  \n",
              "4                  https://github.com/topics/android  \n",
              "5                  https://github.com/topics/angular  \n",
              "6                  https://github.com/topics/ansible  \n",
              "7                      https://github.com/topics/api  \n",
              "8                  https://github.com/topics/arduino  \n",
              "9                   https://github.com/topics/aspnet  \n",
              "10                 https://github.com/topics/awesome  \n",
              "11                     https://github.com/topics/aws  \n",
              "12                   https://github.com/topics/azure  \n",
              "13                   https://github.com/topics/babel  \n",
              "14                    https://github.com/topics/bash  \n",
              "15                 https://github.com/topics/bitcoin  \n",
              "16               https://github.com/topics/bootstrap  \n",
              "17                     https://github.com/topics/bot  \n",
              "18                       https://github.com/topics/c  \n",
              "19                  https://github.com/topics/chrome  \n",
              "20        https://github.com/topics/chrome-extension  \n",
              "21                     https://github.com/topics/cli  \n",
              "22                 https://github.com/topics/clojure  \n",
              "23            https://github.com/topics/code-quality  \n",
              "24             https://github.com/topics/code-review  \n",
              "25                https://github.com/topics/compiler  \n",
              "26  https://github.com/topics/continuous-integration  \n",
              "27                     https://github.com/topics/cpp  \n",
              "28          https://github.com/topics/cryptocurrency  \n",
              "29                 https://github.com/topics/crystal  "
            ],
            "text/html": [
              "\n",
              "  <div id=\"df-bb1c74cb-0367-4188-a31d-ab5945aba71f\" class=\"colab-df-container\">\n",
              "    <div>\n",
              "<style scoped>\n",
              "    .dataframe tbody tr th:only-of-type {\n",
              "        vertical-align: middle;\n",
              "    }\n",
              "\n",
              "    .dataframe tbody tr th {\n",
              "        vertical-align: top;\n",
              "    }\n",
              "\n",
              "    .dataframe thead th {\n",
              "        text-align: right;\n",
              "    }\n",
              "</style>\n",
              "<table border=\"1\" class=\"dataframe\">\n",
              "  <thead>\n",
              "    <tr style=\"text-align: right;\">\n",
              "      <th></th>\n",
              "      <th>title</th>\n",
              "      <th>description</th>\n",
              "      <th>url</th>\n",
              "    </tr>\n",
              "  </thead>\n",
              "  <tbody>\n",
              "    <tr>\n",
              "      <th>0</th>\n",
              "      <td>3D</td>\n",
              "      <td>3D refers to the use of three-dimensional grap...</td>\n",
              "      <td>https://github.com/topics/3d</td>\n",
              "    </tr>\n",
              "    <tr>\n",
              "      <th>1</th>\n",
              "      <td>Ajax</td>\n",
              "      <td>Ajax is a technique for creating interactive w...</td>\n",
              "      <td>https://github.com/topics/ajax</td>\n",
              "    </tr>\n",
              "    <tr>\n",
              "      <th>2</th>\n",
              "      <td>Algorithm</td>\n",
              "      <td>Algorithms are self-contained sequences that c...</td>\n",
              "      <td>https://github.com/topics/algorithm</td>\n",
              "    </tr>\n",
              "    <tr>\n",
              "      <th>3</th>\n",
              "      <td>Amp</td>\n",
              "      <td>Amp is a non-blocking concurrency library for ...</td>\n",
              "      <td>https://github.com/topics/amphp</td>\n",
              "    </tr>\n",
              "    <tr>\n",
              "      <th>4</th>\n",
              "      <td>Android</td>\n",
              "      <td>Android is an operating system built by Google...</td>\n",
              "      <td>https://github.com/topics/android</td>\n",
              "    </tr>\n",
              "    <tr>\n",
              "      <th>5</th>\n",
              "      <td>Angular</td>\n",
              "      <td>Angular is an open source web application plat...</td>\n",
              "      <td>https://github.com/topics/angular</td>\n",
              "    </tr>\n",
              "    <tr>\n",
              "      <th>6</th>\n",
              "      <td>Ansible</td>\n",
              "      <td>Ansible is a simple and powerful automation en...</td>\n",
              "      <td>https://github.com/topics/ansible</td>\n",
              "    </tr>\n",
              "    <tr>\n",
              "      <th>7</th>\n",
              "      <td>API</td>\n",
              "      <td>An API (Application Programming Interface) is ...</td>\n",
              "      <td>https://github.com/topics/api</td>\n",
              "    </tr>\n",
              "    <tr>\n",
              "      <th>8</th>\n",
              "      <td>Arduino</td>\n",
              "      <td>Arduino is an open source platform for buildin...</td>\n",
              "      <td>https://github.com/topics/arduino</td>\n",
              "    </tr>\n",
              "    <tr>\n",
              "      <th>9</th>\n",
              "      <td>ASP.NET</td>\n",
              "      <td>ASP.NET is a web framework for building modern...</td>\n",
              "      <td>https://github.com/topics/aspnet</td>\n",
              "    </tr>\n",
              "    <tr>\n",
              "      <th>10</th>\n",
              "      <td>Awesome Lists</td>\n",
              "      <td>An awesome list is a list of awesome things cu...</td>\n",
              "      <td>https://github.com/topics/awesome</td>\n",
              "    </tr>\n",
              "    <tr>\n",
              "      <th>11</th>\n",
              "      <td>Amazon Web Services</td>\n",
              "      <td>Amazon Web Services provides on-demand cloud c...</td>\n",
              "      <td>https://github.com/topics/aws</td>\n",
              "    </tr>\n",
              "    <tr>\n",
              "      <th>12</th>\n",
              "      <td>Azure</td>\n",
              "      <td>Azure is a cloud computing service created by ...</td>\n",
              "      <td>https://github.com/topics/azure</td>\n",
              "    </tr>\n",
              "    <tr>\n",
              "      <th>13</th>\n",
              "      <td>Babel</td>\n",
              "      <td>Babel is a compiler for writing next generatio...</td>\n",
              "      <td>https://github.com/topics/babel</td>\n",
              "    </tr>\n",
              "    <tr>\n",
              "      <th>14</th>\n",
              "      <td>Bash</td>\n",
              "      <td>Bash is a shell and command language interpret...</td>\n",
              "      <td>https://github.com/topics/bash</td>\n",
              "    </tr>\n",
              "    <tr>\n",
              "      <th>15</th>\n",
              "      <td>Bitcoin</td>\n",
              "      <td>Bitcoin is a cryptocurrency developed by Satos...</td>\n",
              "      <td>https://github.com/topics/bitcoin</td>\n",
              "    </tr>\n",
              "    <tr>\n",
              "      <th>16</th>\n",
              "      <td>Bootstrap</td>\n",
              "      <td>Bootstrap is an HTML, CSS, and JavaScript fram...</td>\n",
              "      <td>https://github.com/topics/bootstrap</td>\n",
              "    </tr>\n",
              "    <tr>\n",
              "      <th>17</th>\n",
              "      <td>Bot</td>\n",
              "      <td>A bot is an application that runs automated ta...</td>\n",
              "      <td>https://github.com/topics/bot</td>\n",
              "    </tr>\n",
              "    <tr>\n",
              "      <th>18</th>\n",
              "      <td>C</td>\n",
              "      <td>C is a general purpose programming language th...</td>\n",
              "      <td>https://github.com/topics/c</td>\n",
              "    </tr>\n",
              "    <tr>\n",
              "      <th>19</th>\n",
              "      <td>Chrome</td>\n",
              "      <td>Chrome is a web browser from the tech company ...</td>\n",
              "      <td>https://github.com/topics/chrome</td>\n",
              "    </tr>\n",
              "    <tr>\n",
              "      <th>20</th>\n",
              "      <td>Chrome extension</td>\n",
              "      <td>Chrome extensions enable users to customize th...</td>\n",
              "      <td>https://github.com/topics/chrome-extension</td>\n",
              "    </tr>\n",
              "    <tr>\n",
              "      <th>21</th>\n",
              "      <td>Command-line interface</td>\n",
              "      <td>A CLI, or command-line interface, is a console...</td>\n",
              "      <td>https://github.com/topics/cli</td>\n",
              "    </tr>\n",
              "    <tr>\n",
              "      <th>22</th>\n",
              "      <td>Clojure</td>\n",
              "      <td>Clojure is a dynamic, general-purpose programm...</td>\n",
              "      <td>https://github.com/topics/clojure</td>\n",
              "    </tr>\n",
              "    <tr>\n",
              "      <th>23</th>\n",
              "      <td>Code quality</td>\n",
              "      <td>Automate your code review with style, quality,...</td>\n",
              "      <td>https://github.com/topics/code-quality</td>\n",
              "    </tr>\n",
              "    <tr>\n",
              "      <th>24</th>\n",
              "      <td>Code review</td>\n",
              "      <td>Ensure your code meets quality standards and s...</td>\n",
              "      <td>https://github.com/topics/code-review</td>\n",
              "    </tr>\n",
              "    <tr>\n",
              "      <th>25</th>\n",
              "      <td>Compiler</td>\n",
              "      <td>Compilers are software that translate higher-l...</td>\n",
              "      <td>https://github.com/topics/compiler</td>\n",
              "    </tr>\n",
              "    <tr>\n",
              "      <th>26</th>\n",
              "      <td>Continuous integration</td>\n",
              "      <td>Automatically build and test your code as you ...</td>\n",
              "      <td>https://github.com/topics/continuous-integration</td>\n",
              "    </tr>\n",
              "    <tr>\n",
              "      <th>27</th>\n",
              "      <td>C++</td>\n",
              "      <td>C++ is a general purpose and object-oriented p...</td>\n",
              "      <td>https://github.com/topics/cpp</td>\n",
              "    </tr>\n",
              "    <tr>\n",
              "      <th>28</th>\n",
              "      <td>Cryptocurrency</td>\n",
              "      <td>A cryptocurrency is a digital currency that us...</td>\n",
              "      <td>https://github.com/topics/cryptocurrency</td>\n",
              "    </tr>\n",
              "    <tr>\n",
              "      <th>29</th>\n",
              "      <td>Crystal</td>\n",
              "      <td>Crystal is a self-hosted, general purpose prog...</td>\n",
              "      <td>https://github.com/topics/crystal</td>\n",
              "    </tr>\n",
              "  </tbody>\n",
              "</table>\n",
              "</div>\n",
              "    <div class=\"colab-df-buttons\">\n",
              "\n",
              "  <div class=\"colab-df-container\">\n",
              "    <button class=\"colab-df-convert\" onclick=\"convertToInteractive('df-bb1c74cb-0367-4188-a31d-ab5945aba71f')\"\n",
              "            title=\"Convert this dataframe to an interactive table.\"\n",
              "            style=\"display:none;\">\n",
              "\n",
              "  <svg xmlns=\"http://www.w3.org/2000/svg\" height=\"24px\" viewBox=\"0 -960 960 960\">\n",
              "    <path d=\"M120-120v-720h720v720H120Zm60-500h600v-160H180v160Zm220 220h160v-160H400v160Zm0 220h160v-160H400v160ZM180-400h160v-160H180v160Zm440 0h160v-160H620v160ZM180-180h160v-160H180v160Zm440 0h160v-160H620v160Z\"/>\n",
              "  </svg>\n",
              "    </button>\n",
              "\n",
              "  <style>\n",
              "    .colab-df-container {\n",
              "      display:flex;\n",
              "      gap: 12px;\n",
              "    }\n",
              "\n",
              "    .colab-df-convert {\n",
              "      background-color: #E8F0FE;\n",
              "      border: none;\n",
              "      border-radius: 50%;\n",
              "      cursor: pointer;\n",
              "      display: none;\n",
              "      fill: #1967D2;\n",
              "      height: 32px;\n",
              "      padding: 0 0 0 0;\n",
              "      width: 32px;\n",
              "    }\n",
              "\n",
              "    .colab-df-convert:hover {\n",
              "      background-color: #E2EBFA;\n",
              "      box-shadow: 0px 1px 2px rgba(60, 64, 67, 0.3), 0px 1px 3px 1px rgba(60, 64, 67, 0.15);\n",
              "      fill: #174EA6;\n",
              "    }\n",
              "\n",
              "    .colab-df-buttons div {\n",
              "      margin-bottom: 4px;\n",
              "    }\n",
              "\n",
              "    [theme=dark] .colab-df-convert {\n",
              "      background-color: #3B4455;\n",
              "      fill: #D2E3FC;\n",
              "    }\n",
              "\n",
              "    [theme=dark] .colab-df-convert:hover {\n",
              "      background-color: #434B5C;\n",
              "      box-shadow: 0px 1px 3px 1px rgba(0, 0, 0, 0.15);\n",
              "      filter: drop-shadow(0px 1px 2px rgba(0, 0, 0, 0.3));\n",
              "      fill: #FFFFFF;\n",
              "    }\n",
              "  </style>\n",
              "\n",
              "    <script>\n",
              "      const buttonEl =\n",
              "        document.querySelector('#df-bb1c74cb-0367-4188-a31d-ab5945aba71f button.colab-df-convert');\n",
              "      buttonEl.style.display =\n",
              "        google.colab.kernel.accessAllowed ? 'block' : 'none';\n",
              "\n",
              "      async function convertToInteractive(key) {\n",
              "        const element = document.querySelector('#df-bb1c74cb-0367-4188-a31d-ab5945aba71f');\n",
              "        const dataTable =\n",
              "          await google.colab.kernel.invokeFunction('convertToInteractive',\n",
              "                                                    [key], {});\n",
              "        if (!dataTable) return;\n",
              "\n",
              "        const docLinkHtml = 'Like what you see? Visit the ' +\n",
              "          '<a target=\"_blank\" href=https://colab.research.google.com/notebooks/data_table.ipynb>data table notebook</a>'\n",
              "          + ' to learn more about interactive tables.';\n",
              "        element.innerHTML = '';\n",
              "        dataTable['output_type'] = 'display_data';\n",
              "        await google.colab.output.renderOutput(dataTable, element);\n",
              "        const docLink = document.createElement('div');\n",
              "        docLink.innerHTML = docLinkHtml;\n",
              "        element.appendChild(docLink);\n",
              "      }\n",
              "    </script>\n",
              "  </div>\n",
              "\n",
              "\n",
              "<div id=\"df-a8101302-9a42-42e7-a662-c9de7f21aa06\">\n",
              "  <button class=\"colab-df-quickchart\" onclick=\"quickchart('df-a8101302-9a42-42e7-a662-c9de7f21aa06')\"\n",
              "            title=\"Suggest charts\"\n",
              "            style=\"display:none;\">\n",
              "\n",
              "<svg xmlns=\"http://www.w3.org/2000/svg\" height=\"24px\"viewBox=\"0 0 24 24\"\n",
              "     width=\"24px\">\n",
              "    <g>\n",
              "        <path d=\"M19 3H5c-1.1 0-2 .9-2 2v14c0 1.1.9 2 2 2h14c1.1 0 2-.9 2-2V5c0-1.1-.9-2-2-2zM9 17H7v-7h2v7zm4 0h-2V7h2v10zm4 0h-2v-4h2v4z\"/>\n",
              "    </g>\n",
              "</svg>\n",
              "  </button>\n",
              "\n",
              "<style>\n",
              "  .colab-df-quickchart {\n",
              "      --bg-color: #E8F0FE;\n",
              "      --fill-color: #1967D2;\n",
              "      --hover-bg-color: #E2EBFA;\n",
              "      --hover-fill-color: #174EA6;\n",
              "      --disabled-fill-color: #AAA;\n",
              "      --disabled-bg-color: #DDD;\n",
              "  }\n",
              "\n",
              "  [theme=dark] .colab-df-quickchart {\n",
              "      --bg-color: #3B4455;\n",
              "      --fill-color: #D2E3FC;\n",
              "      --hover-bg-color: #434B5C;\n",
              "      --hover-fill-color: #FFFFFF;\n",
              "      --disabled-bg-color: #3B4455;\n",
              "      --disabled-fill-color: #666;\n",
              "  }\n",
              "\n",
              "  .colab-df-quickchart {\n",
              "    background-color: var(--bg-color);\n",
              "    border: none;\n",
              "    border-radius: 50%;\n",
              "    cursor: pointer;\n",
              "    display: none;\n",
              "    fill: var(--fill-color);\n",
              "    height: 32px;\n",
              "    padding: 0;\n",
              "    width: 32px;\n",
              "  }\n",
              "\n",
              "  .colab-df-quickchart:hover {\n",
              "    background-color: var(--hover-bg-color);\n",
              "    box-shadow: 0 1px 2px rgba(60, 64, 67, 0.3), 0 1px 3px 1px rgba(60, 64, 67, 0.15);\n",
              "    fill: var(--button-hover-fill-color);\n",
              "  }\n",
              "\n",
              "  .colab-df-quickchart-complete:disabled,\n",
              "  .colab-df-quickchart-complete:disabled:hover {\n",
              "    background-color: var(--disabled-bg-color);\n",
              "    fill: var(--disabled-fill-color);\n",
              "    box-shadow: none;\n",
              "  }\n",
              "\n",
              "  .colab-df-spinner {\n",
              "    border: 2px solid var(--fill-color);\n",
              "    border-color: transparent;\n",
              "    border-bottom-color: var(--fill-color);\n",
              "    animation:\n",
              "      spin 1s steps(1) infinite;\n",
              "  }\n",
              "\n",
              "  @keyframes spin {\n",
              "    0% {\n",
              "      border-color: transparent;\n",
              "      border-bottom-color: var(--fill-color);\n",
              "      border-left-color: var(--fill-color);\n",
              "    }\n",
              "    20% {\n",
              "      border-color: transparent;\n",
              "      border-left-color: var(--fill-color);\n",
              "      border-top-color: var(--fill-color);\n",
              "    }\n",
              "    30% {\n",
              "      border-color: transparent;\n",
              "      border-left-color: var(--fill-color);\n",
              "      border-top-color: var(--fill-color);\n",
              "      border-right-color: var(--fill-color);\n",
              "    }\n",
              "    40% {\n",
              "      border-color: transparent;\n",
              "      border-right-color: var(--fill-color);\n",
              "      border-top-color: var(--fill-color);\n",
              "    }\n",
              "    60% {\n",
              "      border-color: transparent;\n",
              "      border-right-color: var(--fill-color);\n",
              "    }\n",
              "    80% {\n",
              "      border-color: transparent;\n",
              "      border-right-color: var(--fill-color);\n",
              "      border-bottom-color: var(--fill-color);\n",
              "    }\n",
              "    90% {\n",
              "      border-color: transparent;\n",
              "      border-bottom-color: var(--fill-color);\n",
              "    }\n",
              "  }\n",
              "</style>\n",
              "\n",
              "  <script>\n",
              "    async function quickchart(key) {\n",
              "      const quickchartButtonEl =\n",
              "        document.querySelector('#' + key + ' button');\n",
              "      quickchartButtonEl.disabled = true;  // To prevent multiple clicks.\n",
              "      quickchartButtonEl.classList.add('colab-df-spinner');\n",
              "      try {\n",
              "        const charts = await google.colab.kernel.invokeFunction(\n",
              "            'suggestCharts', [key], {});\n",
              "      } catch (error) {\n",
              "        console.error('Error during call to suggestCharts:', error);\n",
              "      }\n",
              "      quickchartButtonEl.classList.remove('colab-df-spinner');\n",
              "      quickchartButtonEl.classList.add('colab-df-quickchart-complete');\n",
              "    }\n",
              "    (() => {\n",
              "      let quickchartButtonEl =\n",
              "        document.querySelector('#df-a8101302-9a42-42e7-a662-c9de7f21aa06 button');\n",
              "      quickchartButtonEl.style.display =\n",
              "        google.colab.kernel.accessAllowed ? 'block' : 'none';\n",
              "    })();\n",
              "  </script>\n",
              "</div>\n",
              "\n",
              "  <div id=\"id_0f1fcd48-d4f9-417d-a91b-152b0aeb2ca9\">\n",
              "    <style>\n",
              "      .colab-df-generate {\n",
              "        background-color: #E8F0FE;\n",
              "        border: none;\n",
              "        border-radius: 50%;\n",
              "        cursor: pointer;\n",
              "        display: none;\n",
              "        fill: #1967D2;\n",
              "        height: 32px;\n",
              "        padding: 0 0 0 0;\n",
              "        width: 32px;\n",
              "      }\n",
              "\n",
              "      .colab-df-generate:hover {\n",
              "        background-color: #E2EBFA;\n",
              "        box-shadow: 0px 1px 2px rgba(60, 64, 67, 0.3), 0px 1px 3px 1px rgba(60, 64, 67, 0.15);\n",
              "        fill: #174EA6;\n",
              "      }\n",
              "\n",
              "      [theme=dark] .colab-df-generate {\n",
              "        background-color: #3B4455;\n",
              "        fill: #D2E3FC;\n",
              "      }\n",
              "\n",
              "      [theme=dark] .colab-df-generate:hover {\n",
              "        background-color: #434B5C;\n",
              "        box-shadow: 0px 1px 3px 1px rgba(0, 0, 0, 0.15);\n",
              "        filter: drop-shadow(0px 1px 2px rgba(0, 0, 0, 0.3));\n",
              "        fill: #FFFFFF;\n",
              "      }\n",
              "    </style>\n",
              "    <button class=\"colab-df-generate\" onclick=\"generateWithVariable('topic_df')\"\n",
              "            title=\"Generate code using this dataframe.\"\n",
              "            style=\"display:none;\">\n",
              "\n",
              "  <svg xmlns=\"http://www.w3.org/2000/svg\" height=\"24px\"viewBox=\"0 0 24 24\"\n",
              "       width=\"24px\">\n",
              "    <path d=\"M7,19H8.4L18.45,9,17,7.55,7,17.6ZM5,21V16.75L18.45,3.32a2,2,0,0,1,2.83,0l1.4,1.43a1.91,1.91,0,0,1,.58,1.4,1.91,1.91,0,0,1-.58,1.4L9.25,21ZM18.45,9,17,7.55Zm-12,3A5.31,5.31,0,0,0,4.9,8.1,5.31,5.31,0,0,0,1,6.5,5.31,5.31,0,0,0,4.9,4.9,5.31,5.31,0,0,0,6.5,1,5.31,5.31,0,0,0,8.1,4.9,5.31,5.31,0,0,0,12,6.5,5.46,5.46,0,0,0,6.5,12Z\"/>\n",
              "  </svg>\n",
              "    </button>\n",
              "    <script>\n",
              "      (() => {\n",
              "      const buttonEl =\n",
              "        document.querySelector('#id_0f1fcd48-d4f9-417d-a91b-152b0aeb2ca9 button.colab-df-generate');\n",
              "      buttonEl.style.display =\n",
              "        google.colab.kernel.accessAllowed ? 'block' : 'none';\n",
              "\n",
              "      buttonEl.onclick = () => {\n",
              "        google.colab.notebook.generateWithVariable('topic_df');\n",
              "      }\n",
              "      })();\n",
              "    </script>\n",
              "  </div>\n",
              "\n",
              "    </div>\n",
              "  </div>\n"
            ],
            "application/vnd.google.colaboratory.intrinsic+json": {
              "type": "dataframe",
              "variable_name": "topic_df",
              "summary": "{\n  \"name\": \"topic_df\",\n  \"rows\": 30,\n  \"fields\": [\n    {\n      \"column\": \"title\",\n      \"properties\": {\n        \"dtype\": \"string\",\n        \"num_unique_values\": 30,\n        \"samples\": [\n          \"C++\",\n          \"Bitcoin\",\n          \"Code quality\"\n        ],\n        \"semantic_type\": \"\",\n        \"description\": \"\"\n      }\n    },\n    {\n      \"column\": \"description\",\n      \"properties\": {\n        \"dtype\": \"string\",\n        \"num_unique_values\": 30,\n        \"samples\": [\n          \"C++ is a general purpose and object-oriented programming language.\",\n          \"Bitcoin is a cryptocurrency developed by Satoshi Nakamoto.\",\n          \"Automate your code review with style, quality, security, and test\\u2011coverage checks when you need them.\"\n        ],\n        \"semantic_type\": \"\",\n        \"description\": \"\"\n      }\n    },\n    {\n      \"column\": \"url\",\n      \"properties\": {\n        \"dtype\": \"string\",\n        \"num_unique_values\": 30,\n        \"samples\": [\n          \"https://github.com/topics/cpp\",\n          \"https://github.com/topics/bitcoin\",\n          \"https://github.com/topics/code-quality\"\n        ],\n        \"semantic_type\": \"\",\n        \"description\": \"\"\n      }\n    }\n  ]\n}"
            }
          },
          "metadata": {},
          "execution_count": 26
        }
      ]
    },
    {
      "cell_type": "markdown",
      "source": [
        "**Create a CSV file with the extracted information**"
      ],
      "metadata": {
        "id": "9SwjAc8JDNgk"
      }
    },
    {
      "cell_type": "code",
      "source": [
        "topic_df.to_csv('topic.csv', index = None)"
      ],
      "metadata": {
        "id": "8AUrxf6JDM9R"
      },
      "execution_count": null,
      "outputs": []
    },
    {
      "cell_type": "code",
      "source": [
        "topic_page_url = topic_urls[0]"
      ],
      "metadata": {
        "id": "Th0Drim0E6bY"
      },
      "execution_count": null,
      "outputs": []
    },
    {
      "cell_type": "code",
      "source": [
        "topic_page_url"
      ],
      "metadata": {
        "colab": {
          "base_uri": "https://localhost:8080/",
          "height": 36
        },
        "id": "Z49XD6cUFQIU",
        "outputId": "2d3339b7-3d8a-4234-b3c4-c138e3b74e74"
      },
      "execution_count": null,
      "outputs": [
        {
          "output_type": "execute_result",
          "data": {
            "text/plain": [
              "'https://github.com/topics/3d'"
            ],
            "application/vnd.google.colaboratory.intrinsic+json": {
              "type": "string"
            }
          },
          "metadata": {},
          "execution_count": 29
        }
      ]
    },
    {
      "cell_type": "code",
      "source": [
        "response = requests.get(topic_page_url)\n",
        "response.status_code"
      ],
      "metadata": {
        "colab": {
          "base_uri": "https://localhost:8080/"
        },
        "id": "xwaJ-qInFTMG",
        "outputId": "85ded011-b80c-4dc0-f243-a0de78ba5995"
      },
      "execution_count": null,
      "outputs": [
        {
          "output_type": "execute_result",
          "data": {
            "text/plain": [
              "200"
            ]
          },
          "metadata": {},
          "execution_count": 30
        }
      ]
    },
    {
      "cell_type": "code",
      "source": [
        "len(response.text)"
      ],
      "metadata": {
        "colab": {
          "base_uri": "https://localhost:8080/"
        },
        "id": "XKAKMLAJFgJQ",
        "outputId": "ec23916a-2524-4b16-a130-605adc74550b"
      },
      "execution_count": null,
      "outputs": [
        {
          "output_type": "execute_result",
          "data": {
            "text/plain": [
              "520225"
            ]
          },
          "metadata": {},
          "execution_count": 31
        }
      ]
    },
    {
      "cell_type": "code",
      "source": [
        "topic_doc = BeautifulSoup(response.text, 'html.parser')"
      ],
      "metadata": {
        "id": "aJNMwQFHFlo2"
      },
      "execution_count": null,
      "outputs": []
    },
    {
      "cell_type": "code",
      "source": [
        "h3_selection_class = 'f3 color-fg-muted text-normal lh-condensed'\n",
        "repo_tags = topic_doc.find_all('h3', {'class': h3_selection_class})"
      ],
      "metadata": {
        "id": "Je2bzxzDFxgq"
      },
      "execution_count": null,
      "outputs": []
    },
    {
      "cell_type": "code",
      "source": [
        "len(repo_tags)"
      ],
      "metadata": {
        "colab": {
          "base_uri": "https://localhost:8080/"
        },
        "id": "vIgIS40cRMgZ",
        "outputId": "b575944e-4bae-4e56-cff2-0b4823974fa9"
      },
      "execution_count": null,
      "outputs": [
        {
          "output_type": "execute_result",
          "data": {
            "text/plain": [
              "20"
            ]
          },
          "metadata": {},
          "execution_count": 34
        }
      ]
    },
    {
      "cell_type": "code",
      "source": [
        "a_tags =  repo_tags[0].find_all('a')\n",
        "a_tags[0].text.strip()"
      ],
      "metadata": {
        "colab": {
          "base_uri": "https://localhost:8080/",
          "height": 36
        },
        "id": "8tndZ4TBSTg2",
        "outputId": "b3b9b376-871f-4944-9477-9f90e990195e"
      },
      "execution_count": null,
      "outputs": [
        {
          "output_type": "execute_result",
          "data": {
            "text/plain": [
              "'mrdoob'"
            ],
            "application/vnd.google.colaboratory.intrinsic+json": {
              "type": "string"
            }
          },
          "metadata": {},
          "execution_count": 35
        }
      ]
    },
    {
      "cell_type": "code",
      "source": [
        "a_tags[1].text.strip()"
      ],
      "metadata": {
        "colab": {
          "base_uri": "https://localhost:8080/",
          "height": 36
        },
        "id": "legGt1iBTARg",
        "outputId": "dc5b1f00-872b-4a97-a6f0-dedf277c4893"
      },
      "execution_count": null,
      "outputs": [
        {
          "output_type": "execute_result",
          "data": {
            "text/plain": [
              "'three.js'"
            ],
            "application/vnd.google.colaboratory.intrinsic+json": {
              "type": "string"
            }
          },
          "metadata": {},
          "execution_count": 36
        }
      ]
    },
    {
      "cell_type": "code",
      "source": [
        "repo_url  = base_url + a_tags[1]['href']\n",
        "print(repo_url)"
      ],
      "metadata": {
        "colab": {
          "base_uri": "https://localhost:8080/"
        },
        "id": "pkCwfNQ0TDqP",
        "outputId": "f0130c94-906e-4d34-cc69-afdb1d72be49"
      },
      "execution_count": null,
      "outputs": [
        {
          "output_type": "stream",
          "name": "stdout",
          "text": [
            "https://github.com/mrdoob/three.js\n"
          ]
        }
      ]
    },
    {
      "cell_type": "code",
      "source": [
        "star_tags = topic_doc.find_all('span', { 'class' :'Counter js-social-count'})"
      ],
      "metadata": {
        "id": "aMydxDRHjyAi"
      },
      "execution_count": null,
      "outputs": []
    },
    {
      "cell_type": "code",
      "source": [
        "len(star_tags)"
      ],
      "metadata": {
        "colab": {
          "base_uri": "https://localhost:8080/"
        },
        "id": "hjMCF6jqqTus",
        "outputId": "c62d8e46-de09-4092-b08e-7797b6da1841"
      },
      "execution_count": null,
      "outputs": [
        {
          "output_type": "execute_result",
          "data": {
            "text/plain": [
              "20"
            ]
          },
          "metadata": {},
          "execution_count": 39
        }
      ]
    },
    {
      "cell_type": "code",
      "source": [
        "star_tags[0].text.strip()"
      ],
      "metadata": {
        "colab": {
          "base_uri": "https://localhost:8080/",
          "height": 36
        },
        "id": "Sm2i4ed8tRtN",
        "outputId": "98fa6db4-4561-427a-a2ba-122556566f89"
      },
      "execution_count": null,
      "outputs": [
        {
          "output_type": "execute_result",
          "data": {
            "text/plain": [
              "'104k'"
            ],
            "application/vnd.google.colaboratory.intrinsic+json": {
              "type": "string"
            }
          },
          "metadata": {},
          "execution_count": 40
        }
      ]
    },
    {
      "cell_type": "code",
      "source": [
        "def parse_star_count(stars_str):\n",
        "  stars_str = stars_str.strip()\n",
        "  if stars_str[-1] == 'k':\n",
        "    return int(float(stars_str[:-1])*1000)\n",
        "  return int(stars_str)"
      ],
      "metadata": {
        "id": "xjrypCVRvEjg"
      },
      "execution_count": null,
      "outputs": []
    },
    {
      "cell_type": "code",
      "source": [
        "parse_star_count(star_tags[0].text.strip())"
      ],
      "metadata": {
        "colab": {
          "base_uri": "https://localhost:8080/"
        },
        "id": "ropqJzukv3ZK",
        "outputId": "90ff77c4-ffdf-4d7a-e42e-06b199f168c8"
      },
      "execution_count": null,
      "outputs": [
        {
          "output_type": "execute_result",
          "data": {
            "text/plain": [
              "104000"
            ]
          },
          "metadata": {},
          "execution_count": 42
        }
      ]
    },
    {
      "cell_type": "code",
      "source": [
        "def get_repo_info(h3_tag, star_tag):\n",
        "  a_tags = h3_tag.find_all('a')\n",
        "  username = a_tags[0].text.strip()\n",
        "  repo_name = a_tags[1].text.strip()\n",
        "  repo_url =  base_url + a_tags[1]['href']\n",
        "  stars = parse_star_count(star_tag.text.strip())\n",
        "  return username, repo_name, stars, repo_url\n"
      ],
      "metadata": {
        "id": "8aAm1bo9wTVi"
      },
      "execution_count": null,
      "outputs": []
    },
    {
      "cell_type": "code",
      "source": [
        "get_repo_info(repo_tags[0], star_tags[0])"
      ],
      "metadata": {
        "colab": {
          "base_uri": "https://localhost:8080/"
        },
        "id": "hlcYAmDAKzLu",
        "outputId": "b608de35-37ae-4778-c705-6b592d3f4156"
      },
      "execution_count": null,
      "outputs": [
        {
          "output_type": "execute_result",
          "data": {
            "text/plain": [
              "('mrdoob', 'three.js', 104000, 'https://github.com/mrdoob/three.js')"
            ]
          },
          "metadata": {},
          "execution_count": 44
        }
      ]
    },
    {
      "cell_type": "code",
      "source": [
        "topic_repos_dict = {\n",
        "    'user_name': [],\n",
        "    'repo_name' : [],\n",
        "    'stars': [],\n",
        "    'repo_url': []\n",
        "}"
      ],
      "metadata": {
        "id": "kEbLPcsjMXi7"
      },
      "execution_count": null,
      "outputs": []
    },
    {
      "cell_type": "code",
      "source": [
        "for i in range(len(repo_tags)):\n",
        "  repo_info =  get_repo_info(repo_tags[i], star_tags[i])\n",
        "  topic_repos_dict['user_name'].append(repo_info[0])\n",
        "  topic_repos_dict['repo_name'].append(repo_info[1])\n",
        "  topic_repos_dict['stars'].append(repo_info[2])\n",
        "  topic_repos_dict['repo_url'].append(repo_info[3])"
      ],
      "metadata": {
        "id": "JkoSHTGdL-ZZ"
      },
      "execution_count": null,
      "outputs": []
    },
    {
      "cell_type": "markdown",
      "source": [
        "***Final Code***"
      ],
      "metadata": {
        "id": "qGgn0Ggt12QT"
      }
    },
    {
      "cell_type": "code",
      "source": [
        "import os\n",
        "\n",
        "def get_topic_page(topic_url):\n",
        "  response =  requests.get(topic_url)\n",
        "  if response.status_code != 200:\n",
        "    raise Exception('Failed to load page {}'.format(topic_url))\n",
        "  topic_doc = BeautifulSoup(response.text, 'html.parser')\n",
        "  return topic_doc\n",
        "\n",
        "def get_repo_info(h3_tag, star_tag):\n",
        "  a_tags = h3_tag.find_all('a')\n",
        "  username = a_tags[0].text.strip()\n",
        "  repo_name = a_tags[1].text.strip()\n",
        "  repo_url =  base_url + a_tags[1]['href']\n",
        "  stars = parse_star_count(star_tag.text.strip())\n",
        "  return username, repo_name, stars, repo_url\n",
        "\n",
        "\n",
        "def get_topic_repos(topic_doc):\n",
        "    h3_selection_class = 'f3 color-fg-muted text-normal lh-condensed'\n",
        "    repo_tags = topic_doc.find_all('h3', {'class': h3_selection_class})\n",
        "\n",
        "    star_tags = topic_doc.find_all('span', { 'class' :'Counter js-social-count'})\n",
        "\n",
        "    topic_repos_dict = {\n",
        "    'user_name': [],\n",
        "    'repo_name' : [],\n",
        "    'stars': [],\n",
        "    'repo_url': []\n",
        "    }\n",
        "\n",
        "    for i in range(len(repo_tags)):\n",
        "      repo_info =  get_repo_info(repo_tags[i], star_tags[i])\n",
        "      topic_repos_dict['user_name'].append(repo_info[0])\n",
        "      topic_repos_dict['repo_name'].append(repo_info[1])\n",
        "      topic_repos_dict['stars'].append(repo_info[2])\n",
        "      topic_repos_dict['repo_url'].append(repo_info[3])\n",
        "    return pd.DataFrame(topic_repos_dict)"
      ],
      "metadata": {
        "id": "c2w4w-FWYScY"
      },
      "execution_count": null,
      "outputs": []
    },
    {
      "cell_type": "code",
      "source": [
        "get_topic_repos(get_topic_page(topic_urls[4])).to_csv('ansible.csv', index = None)"
      ],
      "metadata": {
        "id": "vT60cTpFk1-b"
      },
      "execution_count": null,
      "outputs": []
    },
    {
      "cell_type": "code",
      "source": [
        "def scrape_topic(topic_url, path):\n",
        "  if os.path.exists(path):\n",
        "    print(\"The file {} already exists. Skipping...\".format(path))\n",
        "    return\n",
        "  topic_df = get_topic_repos(get_topic_page(topic_url))\n",
        "  topic_df.to_csv(path, index =  None)"
      ],
      "metadata": {
        "id": "33zqZVLzv_I6"
      },
      "execution_count": null,
      "outputs": []
    },
    {
      "cell_type": "markdown",
      "source": [
        "1. Get the list of topics from the topics page.\n",
        "2. Get the list of top repos from the individual topic page.\n",
        "3. For eachh topic, create a CSV of the top repos for the topic."
      ],
      "metadata": {
        "id": "4Hda2_vhGiUN"
      }
    },
    {
      "cell_type": "code",
      "source": [
        "def get_topics_titles(doc):\n",
        "  selection_class = 'f3 lh-condensed mb-0 mt-1 Link--primary'\n",
        "  topic_title_tags = doc.find_all('p', {'class': selection_class})\n",
        "  topic_titles = []\n",
        "  for tag in topic_title_tags:\n",
        "    topic_titles.append(tag.text)\n",
        "  return topic_titles\n",
        "\n",
        "\n",
        "def get_topic_desc(doc):\n",
        "  desc_selector = 'f5 color-fg-muted mb-0 mt-1'\n",
        "  topic_desc_tags = doc.find_all('p', {'class': desc_selector})\n",
        "  topic_descs = []\n",
        "  for tag in topic_desc_tags:\n",
        "    topic_descs.append(tag.text.strip())\n",
        "  return topic_descs\n",
        "\n",
        "\n",
        "def get_topic_urls(doc):\n",
        "  topic_link_tags  = doc.find_all('a', {'class': 'no-underline flex-1 d-flex flex-column'})\n",
        "  topic_urls =[]\n",
        "  base_url = 'https://github.com'\n",
        "  for tag in topic_link_tags:\n",
        "    topic_urls.append(base_url + tag['href'])\n",
        "  return topic_urls\n",
        "\n",
        "\n",
        "def scrape_topics():\n",
        "  topics_url = 'https://github.com/topics'\n",
        "  response = requests.get(topics_url)\n",
        "  if response.status_code != 200:\n",
        "    raise Exception('Failed to load page {}'.format(topics_url))\n",
        "  topics_dict  = {\n",
        "      'title': get_topics_titles(doc),\n",
        "      'description': get_topic_desc(doc),\n",
        "      'url': get_topic_urls(doc)\n",
        "  }\n",
        "  return pd.DataFrame(topics_dict)\n",
        "\n",
        "\n"
      ],
      "metadata": {
        "id": "0X_md3fQGRA8"
      },
      "execution_count": null,
      "outputs": []
    },
    {
      "cell_type": "code",
      "source": [
        "scrape_topics()"
      ],
      "metadata": {
        "colab": {
          "base_uri": "https://localhost:8080/",
          "height": 990
        },
        "id": "Mt4d-ekHOuFe",
        "outputId": "4ff81da9-cfcd-4fbf-a0e9-f17459ce94a9"
      },
      "execution_count": null,
      "outputs": [
        {
          "output_type": "execute_result",
          "data": {
            "text/plain": [
              "                     title                                        description  \\\n",
              "0                       3D  3D refers to the use of three-dimensional grap...   \n",
              "1                     Ajax  Ajax is a technique for creating interactive w...   \n",
              "2                Algorithm  Algorithms are self-contained sequences that c...   \n",
              "3                      Amp  Amp is a non-blocking concurrency library for ...   \n",
              "4                  Android  Android is an operating system built by Google...   \n",
              "5                  Angular  Angular is an open source web application plat...   \n",
              "6                  Ansible  Ansible is a simple and powerful automation en...   \n",
              "7                      API  An API (Application Programming Interface) is ...   \n",
              "8                  Arduino  Arduino is an open source platform for buildin...   \n",
              "9                  ASP.NET  ASP.NET is a web framework for building modern...   \n",
              "10           Awesome Lists  An awesome list is a list of awesome things cu...   \n",
              "11     Amazon Web Services  Amazon Web Services provides on-demand cloud c...   \n",
              "12                   Azure  Azure is a cloud computing service created by ...   \n",
              "13                   Babel  Babel is a compiler for writing next generatio...   \n",
              "14                    Bash  Bash is a shell and command language interpret...   \n",
              "15                 Bitcoin  Bitcoin is a cryptocurrency developed by Satos...   \n",
              "16               Bootstrap  Bootstrap is an HTML, CSS, and JavaScript fram...   \n",
              "17                     Bot  A bot is an application that runs automated ta...   \n",
              "18                       C  C is a general purpose programming language th...   \n",
              "19                  Chrome  Chrome is a web browser from the tech company ...   \n",
              "20        Chrome extension  Chrome extensions enable users to customize th...   \n",
              "21  Command-line interface  A CLI, or command-line interface, is a console...   \n",
              "22                 Clojure  Clojure is a dynamic, general-purpose programm...   \n",
              "23            Code quality  Automate your code review with style, quality,...   \n",
              "24             Code review  Ensure your code meets quality standards and s...   \n",
              "25                Compiler  Compilers are software that translate higher-l...   \n",
              "26  Continuous integration  Automatically build and test your code as you ...   \n",
              "27                     C++  C++ is a general purpose and object-oriented p...   \n",
              "28          Cryptocurrency  A cryptocurrency is a digital currency that us...   \n",
              "29                 Crystal  Crystal is a self-hosted, general purpose prog...   \n",
              "\n",
              "                                                 url  \n",
              "0                       https://github.com/topics/3d  \n",
              "1                     https://github.com/topics/ajax  \n",
              "2                https://github.com/topics/algorithm  \n",
              "3                    https://github.com/topics/amphp  \n",
              "4                  https://github.com/topics/android  \n",
              "5                  https://github.com/topics/angular  \n",
              "6                  https://github.com/topics/ansible  \n",
              "7                      https://github.com/topics/api  \n",
              "8                  https://github.com/topics/arduino  \n",
              "9                   https://github.com/topics/aspnet  \n",
              "10                 https://github.com/topics/awesome  \n",
              "11                     https://github.com/topics/aws  \n",
              "12                   https://github.com/topics/azure  \n",
              "13                   https://github.com/topics/babel  \n",
              "14                    https://github.com/topics/bash  \n",
              "15                 https://github.com/topics/bitcoin  \n",
              "16               https://github.com/topics/bootstrap  \n",
              "17                     https://github.com/topics/bot  \n",
              "18                       https://github.com/topics/c  \n",
              "19                  https://github.com/topics/chrome  \n",
              "20        https://github.com/topics/chrome-extension  \n",
              "21                     https://github.com/topics/cli  \n",
              "22                 https://github.com/topics/clojure  \n",
              "23            https://github.com/topics/code-quality  \n",
              "24             https://github.com/topics/code-review  \n",
              "25                https://github.com/topics/compiler  \n",
              "26  https://github.com/topics/continuous-integration  \n",
              "27                     https://github.com/topics/cpp  \n",
              "28          https://github.com/topics/cryptocurrency  \n",
              "29                 https://github.com/topics/crystal  "
            ],
            "text/html": [
              "\n",
              "  <div id=\"df-566b0c1c-bcc2-41b1-8f6c-fd163a809061\" class=\"colab-df-container\">\n",
              "    <div>\n",
              "<style scoped>\n",
              "    .dataframe tbody tr th:only-of-type {\n",
              "        vertical-align: middle;\n",
              "    }\n",
              "\n",
              "    .dataframe tbody tr th {\n",
              "        vertical-align: top;\n",
              "    }\n",
              "\n",
              "    .dataframe thead th {\n",
              "        text-align: right;\n",
              "    }\n",
              "</style>\n",
              "<table border=\"1\" class=\"dataframe\">\n",
              "  <thead>\n",
              "    <tr style=\"text-align: right;\">\n",
              "      <th></th>\n",
              "      <th>title</th>\n",
              "      <th>description</th>\n",
              "      <th>url</th>\n",
              "    </tr>\n",
              "  </thead>\n",
              "  <tbody>\n",
              "    <tr>\n",
              "      <th>0</th>\n",
              "      <td>3D</td>\n",
              "      <td>3D refers to the use of three-dimensional grap...</td>\n",
              "      <td>https://github.com/topics/3d</td>\n",
              "    </tr>\n",
              "    <tr>\n",
              "      <th>1</th>\n",
              "      <td>Ajax</td>\n",
              "      <td>Ajax is a technique for creating interactive w...</td>\n",
              "      <td>https://github.com/topics/ajax</td>\n",
              "    </tr>\n",
              "    <tr>\n",
              "      <th>2</th>\n",
              "      <td>Algorithm</td>\n",
              "      <td>Algorithms are self-contained sequences that c...</td>\n",
              "      <td>https://github.com/topics/algorithm</td>\n",
              "    </tr>\n",
              "    <tr>\n",
              "      <th>3</th>\n",
              "      <td>Amp</td>\n",
              "      <td>Amp is a non-blocking concurrency library for ...</td>\n",
              "      <td>https://github.com/topics/amphp</td>\n",
              "    </tr>\n",
              "    <tr>\n",
              "      <th>4</th>\n",
              "      <td>Android</td>\n",
              "      <td>Android is an operating system built by Google...</td>\n",
              "      <td>https://github.com/topics/android</td>\n",
              "    </tr>\n",
              "    <tr>\n",
              "      <th>5</th>\n",
              "      <td>Angular</td>\n",
              "      <td>Angular is an open source web application plat...</td>\n",
              "      <td>https://github.com/topics/angular</td>\n",
              "    </tr>\n",
              "    <tr>\n",
              "      <th>6</th>\n",
              "      <td>Ansible</td>\n",
              "      <td>Ansible is a simple and powerful automation en...</td>\n",
              "      <td>https://github.com/topics/ansible</td>\n",
              "    </tr>\n",
              "    <tr>\n",
              "      <th>7</th>\n",
              "      <td>API</td>\n",
              "      <td>An API (Application Programming Interface) is ...</td>\n",
              "      <td>https://github.com/topics/api</td>\n",
              "    </tr>\n",
              "    <tr>\n",
              "      <th>8</th>\n",
              "      <td>Arduino</td>\n",
              "      <td>Arduino is an open source platform for buildin...</td>\n",
              "      <td>https://github.com/topics/arduino</td>\n",
              "    </tr>\n",
              "    <tr>\n",
              "      <th>9</th>\n",
              "      <td>ASP.NET</td>\n",
              "      <td>ASP.NET is a web framework for building modern...</td>\n",
              "      <td>https://github.com/topics/aspnet</td>\n",
              "    </tr>\n",
              "    <tr>\n",
              "      <th>10</th>\n",
              "      <td>Awesome Lists</td>\n",
              "      <td>An awesome list is a list of awesome things cu...</td>\n",
              "      <td>https://github.com/topics/awesome</td>\n",
              "    </tr>\n",
              "    <tr>\n",
              "      <th>11</th>\n",
              "      <td>Amazon Web Services</td>\n",
              "      <td>Amazon Web Services provides on-demand cloud c...</td>\n",
              "      <td>https://github.com/topics/aws</td>\n",
              "    </tr>\n",
              "    <tr>\n",
              "      <th>12</th>\n",
              "      <td>Azure</td>\n",
              "      <td>Azure is a cloud computing service created by ...</td>\n",
              "      <td>https://github.com/topics/azure</td>\n",
              "    </tr>\n",
              "    <tr>\n",
              "      <th>13</th>\n",
              "      <td>Babel</td>\n",
              "      <td>Babel is a compiler for writing next generatio...</td>\n",
              "      <td>https://github.com/topics/babel</td>\n",
              "    </tr>\n",
              "    <tr>\n",
              "      <th>14</th>\n",
              "      <td>Bash</td>\n",
              "      <td>Bash is a shell and command language interpret...</td>\n",
              "      <td>https://github.com/topics/bash</td>\n",
              "    </tr>\n",
              "    <tr>\n",
              "      <th>15</th>\n",
              "      <td>Bitcoin</td>\n",
              "      <td>Bitcoin is a cryptocurrency developed by Satos...</td>\n",
              "      <td>https://github.com/topics/bitcoin</td>\n",
              "    </tr>\n",
              "    <tr>\n",
              "      <th>16</th>\n",
              "      <td>Bootstrap</td>\n",
              "      <td>Bootstrap is an HTML, CSS, and JavaScript fram...</td>\n",
              "      <td>https://github.com/topics/bootstrap</td>\n",
              "    </tr>\n",
              "    <tr>\n",
              "      <th>17</th>\n",
              "      <td>Bot</td>\n",
              "      <td>A bot is an application that runs automated ta...</td>\n",
              "      <td>https://github.com/topics/bot</td>\n",
              "    </tr>\n",
              "    <tr>\n",
              "      <th>18</th>\n",
              "      <td>C</td>\n",
              "      <td>C is a general purpose programming language th...</td>\n",
              "      <td>https://github.com/topics/c</td>\n",
              "    </tr>\n",
              "    <tr>\n",
              "      <th>19</th>\n",
              "      <td>Chrome</td>\n",
              "      <td>Chrome is a web browser from the tech company ...</td>\n",
              "      <td>https://github.com/topics/chrome</td>\n",
              "    </tr>\n",
              "    <tr>\n",
              "      <th>20</th>\n",
              "      <td>Chrome extension</td>\n",
              "      <td>Chrome extensions enable users to customize th...</td>\n",
              "      <td>https://github.com/topics/chrome-extension</td>\n",
              "    </tr>\n",
              "    <tr>\n",
              "      <th>21</th>\n",
              "      <td>Command-line interface</td>\n",
              "      <td>A CLI, or command-line interface, is a console...</td>\n",
              "      <td>https://github.com/topics/cli</td>\n",
              "    </tr>\n",
              "    <tr>\n",
              "      <th>22</th>\n",
              "      <td>Clojure</td>\n",
              "      <td>Clojure is a dynamic, general-purpose programm...</td>\n",
              "      <td>https://github.com/topics/clojure</td>\n",
              "    </tr>\n",
              "    <tr>\n",
              "      <th>23</th>\n",
              "      <td>Code quality</td>\n",
              "      <td>Automate your code review with style, quality,...</td>\n",
              "      <td>https://github.com/topics/code-quality</td>\n",
              "    </tr>\n",
              "    <tr>\n",
              "      <th>24</th>\n",
              "      <td>Code review</td>\n",
              "      <td>Ensure your code meets quality standards and s...</td>\n",
              "      <td>https://github.com/topics/code-review</td>\n",
              "    </tr>\n",
              "    <tr>\n",
              "      <th>25</th>\n",
              "      <td>Compiler</td>\n",
              "      <td>Compilers are software that translate higher-l...</td>\n",
              "      <td>https://github.com/topics/compiler</td>\n",
              "    </tr>\n",
              "    <tr>\n",
              "      <th>26</th>\n",
              "      <td>Continuous integration</td>\n",
              "      <td>Automatically build and test your code as you ...</td>\n",
              "      <td>https://github.com/topics/continuous-integration</td>\n",
              "    </tr>\n",
              "    <tr>\n",
              "      <th>27</th>\n",
              "      <td>C++</td>\n",
              "      <td>C++ is a general purpose and object-oriented p...</td>\n",
              "      <td>https://github.com/topics/cpp</td>\n",
              "    </tr>\n",
              "    <tr>\n",
              "      <th>28</th>\n",
              "      <td>Cryptocurrency</td>\n",
              "      <td>A cryptocurrency is a digital currency that us...</td>\n",
              "      <td>https://github.com/topics/cryptocurrency</td>\n",
              "    </tr>\n",
              "    <tr>\n",
              "      <th>29</th>\n",
              "      <td>Crystal</td>\n",
              "      <td>Crystal is a self-hosted, general purpose prog...</td>\n",
              "      <td>https://github.com/topics/crystal</td>\n",
              "    </tr>\n",
              "  </tbody>\n",
              "</table>\n",
              "</div>\n",
              "    <div class=\"colab-df-buttons\">\n",
              "\n",
              "  <div class=\"colab-df-container\">\n",
              "    <button class=\"colab-df-convert\" onclick=\"convertToInteractive('df-566b0c1c-bcc2-41b1-8f6c-fd163a809061')\"\n",
              "            title=\"Convert this dataframe to an interactive table.\"\n",
              "            style=\"display:none;\">\n",
              "\n",
              "  <svg xmlns=\"http://www.w3.org/2000/svg\" height=\"24px\" viewBox=\"0 -960 960 960\">\n",
              "    <path d=\"M120-120v-720h720v720H120Zm60-500h600v-160H180v160Zm220 220h160v-160H400v160Zm0 220h160v-160H400v160ZM180-400h160v-160H180v160Zm440 0h160v-160H620v160ZM180-180h160v-160H180v160Zm440 0h160v-160H620v160Z\"/>\n",
              "  </svg>\n",
              "    </button>\n",
              "\n",
              "  <style>\n",
              "    .colab-df-container {\n",
              "      display:flex;\n",
              "      gap: 12px;\n",
              "    }\n",
              "\n",
              "    .colab-df-convert {\n",
              "      background-color: #E8F0FE;\n",
              "      border: none;\n",
              "      border-radius: 50%;\n",
              "      cursor: pointer;\n",
              "      display: none;\n",
              "      fill: #1967D2;\n",
              "      height: 32px;\n",
              "      padding: 0 0 0 0;\n",
              "      width: 32px;\n",
              "    }\n",
              "\n",
              "    .colab-df-convert:hover {\n",
              "      background-color: #E2EBFA;\n",
              "      box-shadow: 0px 1px 2px rgba(60, 64, 67, 0.3), 0px 1px 3px 1px rgba(60, 64, 67, 0.15);\n",
              "      fill: #174EA6;\n",
              "    }\n",
              "\n",
              "    .colab-df-buttons div {\n",
              "      margin-bottom: 4px;\n",
              "    }\n",
              "\n",
              "    [theme=dark] .colab-df-convert {\n",
              "      background-color: #3B4455;\n",
              "      fill: #D2E3FC;\n",
              "    }\n",
              "\n",
              "    [theme=dark] .colab-df-convert:hover {\n",
              "      background-color: #434B5C;\n",
              "      box-shadow: 0px 1px 3px 1px rgba(0, 0, 0, 0.15);\n",
              "      filter: drop-shadow(0px 1px 2px rgba(0, 0, 0, 0.3));\n",
              "      fill: #FFFFFF;\n",
              "    }\n",
              "  </style>\n",
              "\n",
              "    <script>\n",
              "      const buttonEl =\n",
              "        document.querySelector('#df-566b0c1c-bcc2-41b1-8f6c-fd163a809061 button.colab-df-convert');\n",
              "      buttonEl.style.display =\n",
              "        google.colab.kernel.accessAllowed ? 'block' : 'none';\n",
              "\n",
              "      async function convertToInteractive(key) {\n",
              "        const element = document.querySelector('#df-566b0c1c-bcc2-41b1-8f6c-fd163a809061');\n",
              "        const dataTable =\n",
              "          await google.colab.kernel.invokeFunction('convertToInteractive',\n",
              "                                                    [key], {});\n",
              "        if (!dataTable) return;\n",
              "\n",
              "        const docLinkHtml = 'Like what you see? Visit the ' +\n",
              "          '<a target=\"_blank\" href=https://colab.research.google.com/notebooks/data_table.ipynb>data table notebook</a>'\n",
              "          + ' to learn more about interactive tables.';\n",
              "        element.innerHTML = '';\n",
              "        dataTable['output_type'] = 'display_data';\n",
              "        await google.colab.output.renderOutput(dataTable, element);\n",
              "        const docLink = document.createElement('div');\n",
              "        docLink.innerHTML = docLinkHtml;\n",
              "        element.appendChild(docLink);\n",
              "      }\n",
              "    </script>\n",
              "  </div>\n",
              "\n",
              "\n",
              "<div id=\"df-1daaf30f-a0d4-411c-8b32-961b6ff97617\">\n",
              "  <button class=\"colab-df-quickchart\" onclick=\"quickchart('df-1daaf30f-a0d4-411c-8b32-961b6ff97617')\"\n",
              "            title=\"Suggest charts\"\n",
              "            style=\"display:none;\">\n",
              "\n",
              "<svg xmlns=\"http://www.w3.org/2000/svg\" height=\"24px\"viewBox=\"0 0 24 24\"\n",
              "     width=\"24px\">\n",
              "    <g>\n",
              "        <path d=\"M19 3H5c-1.1 0-2 .9-2 2v14c0 1.1.9 2 2 2h14c1.1 0 2-.9 2-2V5c0-1.1-.9-2-2-2zM9 17H7v-7h2v7zm4 0h-2V7h2v10zm4 0h-2v-4h2v4z\"/>\n",
              "    </g>\n",
              "</svg>\n",
              "  </button>\n",
              "\n",
              "<style>\n",
              "  .colab-df-quickchart {\n",
              "      --bg-color: #E8F0FE;\n",
              "      --fill-color: #1967D2;\n",
              "      --hover-bg-color: #E2EBFA;\n",
              "      --hover-fill-color: #174EA6;\n",
              "      --disabled-fill-color: #AAA;\n",
              "      --disabled-bg-color: #DDD;\n",
              "  }\n",
              "\n",
              "  [theme=dark] .colab-df-quickchart {\n",
              "      --bg-color: #3B4455;\n",
              "      --fill-color: #D2E3FC;\n",
              "      --hover-bg-color: #434B5C;\n",
              "      --hover-fill-color: #FFFFFF;\n",
              "      --disabled-bg-color: #3B4455;\n",
              "      --disabled-fill-color: #666;\n",
              "  }\n",
              "\n",
              "  .colab-df-quickchart {\n",
              "    background-color: var(--bg-color);\n",
              "    border: none;\n",
              "    border-radius: 50%;\n",
              "    cursor: pointer;\n",
              "    display: none;\n",
              "    fill: var(--fill-color);\n",
              "    height: 32px;\n",
              "    padding: 0;\n",
              "    width: 32px;\n",
              "  }\n",
              "\n",
              "  .colab-df-quickchart:hover {\n",
              "    background-color: var(--hover-bg-color);\n",
              "    box-shadow: 0 1px 2px rgba(60, 64, 67, 0.3), 0 1px 3px 1px rgba(60, 64, 67, 0.15);\n",
              "    fill: var(--button-hover-fill-color);\n",
              "  }\n",
              "\n",
              "  .colab-df-quickchart-complete:disabled,\n",
              "  .colab-df-quickchart-complete:disabled:hover {\n",
              "    background-color: var(--disabled-bg-color);\n",
              "    fill: var(--disabled-fill-color);\n",
              "    box-shadow: none;\n",
              "  }\n",
              "\n",
              "  .colab-df-spinner {\n",
              "    border: 2px solid var(--fill-color);\n",
              "    border-color: transparent;\n",
              "    border-bottom-color: var(--fill-color);\n",
              "    animation:\n",
              "      spin 1s steps(1) infinite;\n",
              "  }\n",
              "\n",
              "  @keyframes spin {\n",
              "    0% {\n",
              "      border-color: transparent;\n",
              "      border-bottom-color: var(--fill-color);\n",
              "      border-left-color: var(--fill-color);\n",
              "    }\n",
              "    20% {\n",
              "      border-color: transparent;\n",
              "      border-left-color: var(--fill-color);\n",
              "      border-top-color: var(--fill-color);\n",
              "    }\n",
              "    30% {\n",
              "      border-color: transparent;\n",
              "      border-left-color: var(--fill-color);\n",
              "      border-top-color: var(--fill-color);\n",
              "      border-right-color: var(--fill-color);\n",
              "    }\n",
              "    40% {\n",
              "      border-color: transparent;\n",
              "      border-right-color: var(--fill-color);\n",
              "      border-top-color: var(--fill-color);\n",
              "    }\n",
              "    60% {\n",
              "      border-color: transparent;\n",
              "      border-right-color: var(--fill-color);\n",
              "    }\n",
              "    80% {\n",
              "      border-color: transparent;\n",
              "      border-right-color: var(--fill-color);\n",
              "      border-bottom-color: var(--fill-color);\n",
              "    }\n",
              "    90% {\n",
              "      border-color: transparent;\n",
              "      border-bottom-color: var(--fill-color);\n",
              "    }\n",
              "  }\n",
              "</style>\n",
              "\n",
              "  <script>\n",
              "    async function quickchart(key) {\n",
              "      const quickchartButtonEl =\n",
              "        document.querySelector('#' + key + ' button');\n",
              "      quickchartButtonEl.disabled = true;  // To prevent multiple clicks.\n",
              "      quickchartButtonEl.classList.add('colab-df-spinner');\n",
              "      try {\n",
              "        const charts = await google.colab.kernel.invokeFunction(\n",
              "            'suggestCharts', [key], {});\n",
              "      } catch (error) {\n",
              "        console.error('Error during call to suggestCharts:', error);\n",
              "      }\n",
              "      quickchartButtonEl.classList.remove('colab-df-spinner');\n",
              "      quickchartButtonEl.classList.add('colab-df-quickchart-complete');\n",
              "    }\n",
              "    (() => {\n",
              "      let quickchartButtonEl =\n",
              "        document.querySelector('#df-1daaf30f-a0d4-411c-8b32-961b6ff97617 button');\n",
              "      quickchartButtonEl.style.display =\n",
              "        google.colab.kernel.accessAllowed ? 'block' : 'none';\n",
              "    })();\n",
              "  </script>\n",
              "</div>\n",
              "\n",
              "    </div>\n",
              "  </div>\n"
            ],
            "application/vnd.google.colaboratory.intrinsic+json": {
              "type": "dataframe",
              "summary": "{\n  \"name\": \"scrape_topics()\",\n  \"rows\": 30,\n  \"fields\": [\n    {\n      \"column\": \"title\",\n      \"properties\": {\n        \"dtype\": \"string\",\n        \"num_unique_values\": 30,\n        \"samples\": [\n          \"C++\",\n          \"Bitcoin\",\n          \"Code quality\"\n        ],\n        \"semantic_type\": \"\",\n        \"description\": \"\"\n      }\n    },\n    {\n      \"column\": \"description\",\n      \"properties\": {\n        \"dtype\": \"string\",\n        \"num_unique_values\": 30,\n        \"samples\": [\n          \"C++ is a general purpose and object-oriented programming language.\",\n          \"Bitcoin is a cryptocurrency developed by Satoshi Nakamoto.\",\n          \"Automate your code review with style, quality, security, and test\\u2011coverage checks when you need them.\"\n        ],\n        \"semantic_type\": \"\",\n        \"description\": \"\"\n      }\n    },\n    {\n      \"column\": \"url\",\n      \"properties\": {\n        \"dtype\": \"string\",\n        \"num_unique_values\": 30,\n        \"samples\": [\n          \"https://github.com/topics/cpp\",\n          \"https://github.com/topics/bitcoin\",\n          \"https://github.com/topics/code-quality\"\n        ],\n        \"semantic_type\": \"\",\n        \"description\": \"\"\n      }\n    }\n  ]\n}"
            }
          },
          "metadata": {},
          "execution_count": 51
        }
      ]
    },
    {
      "cell_type": "code",
      "source": [
        "def scrape_topics_repos():\n",
        "  print('Scraping list of topics')\n",
        "  topics_df = scrape_topics()\n",
        "  os.makedirs('data', exist_ok = True)\n",
        "  for index, row in topics_df.iterrows():\n",
        "    print('Scraping top repositories for \"{}\"'.format(row['title']))\n",
        "    scrape_topic(row['url'], 'data/{}.csv' .format(row['title']))"
      ],
      "metadata": {
        "id": "EE6LdYrIPuXH"
      },
      "execution_count": null,
      "outputs": []
    },
    {
      "cell_type": "code",
      "source": [
        "scrape_topics_repos()"
      ],
      "metadata": {
        "colab": {
          "base_uri": "https://localhost:8080/"
        },
        "id": "F3eorJo-z8vp",
        "outputId": "7dd760ca-33d0-40d9-9975-a5be7e55ad58"
      },
      "execution_count": null,
      "outputs": [
        {
          "output_type": "stream",
          "name": "stdout",
          "text": [
            "Scraping list of topics\n",
            "Scraping top repositories for \"3D\"\n",
            "Scraping top repositories for \"Ajax\"\n",
            "Scraping top repositories for \"Algorithm\"\n",
            "Scraping top repositories for \"Amp\"\n",
            "Scraping top repositories for \"Android\"\n",
            "Scraping top repositories for \"Angular\"\n",
            "Scraping top repositories for \"Ansible\"\n",
            "Scraping top repositories for \"API\"\n",
            "Scraping top repositories for \"Arduino\"\n",
            "Scraping top repositories for \"ASP.NET\"\n",
            "Scraping top repositories for \"Awesome Lists\"\n",
            "Scraping top repositories for \"Amazon Web Services\"\n",
            "Scraping top repositories for \"Azure\"\n",
            "Scraping top repositories for \"Babel\"\n",
            "Scraping top repositories for \"Bash\"\n",
            "Scraping top repositories for \"Bitcoin\"\n",
            "Scraping top repositories for \"Bootstrap\"\n",
            "Scraping top repositories for \"Bot\"\n",
            "Scraping top repositories for \"C\"\n",
            "Scraping top repositories for \"Chrome\"\n",
            "Scraping top repositories for \"Chrome extension\"\n",
            "Scraping top repositories for \"Command-line interface\"\n",
            "Scraping top repositories for \"Clojure\"\n",
            "Scraping top repositories for \"Code quality\"\n",
            "Scraping top repositories for \"Code review\"\n",
            "Scraping top repositories for \"Compiler\"\n",
            "Scraping top repositories for \"Continuous integration\"\n",
            "Scraping top repositories for \"C++\"\n",
            "Scraping top repositories for \"Cryptocurrency\"\n",
            "Scraping top repositories for \"Crystal\"\n"
          ]
        }
      ]
    }
  ]
}